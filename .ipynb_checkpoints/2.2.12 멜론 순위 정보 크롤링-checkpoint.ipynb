{
 "cells": [
  {
   "cell_type": "code",
   "execution_count": 6,
   "id": "3b621a0b",
   "metadata": {},
   "outputs": [
    {
     "name": "stdout",
     "output_type": "stream",
     "text": [
      "\n"
     ]
    },
    {
     "name": "stderr",
     "output_type": "stream",
     "text": [
      "[WDM] - ====== WebDriver manager ======\n",
      "[WDM] - Current google-chrome version is 103.0.5060\n",
      "[WDM] - Get LATEST chromedriver version for 103.0.5060 google-chrome\n",
      "[WDM] - There is no [win32] chromedriver for browser 103.0.5060 in cache\n",
      "[WDM] - About to download new driver from https://chromedriver.storage.googleapis.com/103.0.5060.53/chromedriver_win32.zip\n",
      "[WDM] - Driver has been saved in cache [C:\\Users\\user\\.wdm\\drivers\\chromedriver\\win32\\103.0.5060.53]\n"
     ]
    }
   ],
   "source": [
    "# 크롬 드라이버 실행\n",
    "\n",
    "import time\n",
    "\n",
    "from selenium import webdriver\n",
    "from selenium.webdriver.chrome.service import Service\n",
    "from webdriver_manager.chrome import ChromeDriverManager\n",
    "\n",
    "driver = webdriver.Chrome(service=Service(ChromeDriverManager().install()))"
   ]
  },
  {
   "cell_type": "code",
   "execution_count": 7,
   "id": "01fc0319",
   "metadata": {},
   "outputs": [],
   "source": [
    "# 멜론 웹페이지 접속\n",
    "\n",
    "url = 'http://www.melon.com/chart/index.htm'\n",
    "driver.get(url)"
   ]
  },
  {
   "cell_type": "code",
   "execution_count": 9,
   "id": "63391d45",
   "metadata": {},
   "outputs": [],
   "source": [
    "#HTML 다운로드 및 BeautifulSoup으로 읽기:\n",
    "#     현재 웹 페이지의 HTML 정보를 받아온 뒤, \n",
    "#     노래제목, 가수 등의 필요한 정보를 추출하기 위해 BeautifulSoup으로 읽기\n",
    "\n",
    "from bs4 import BeautifulSoup\n",
    "html = driver.page_source\n",
    "soup = BeautifulSoup(html, 'html.parser')"
   ]
  },
  {
   "cell_type": "code",
   "execution_count": 10,
   "id": "5db51aef",
   "metadata": {},
   "outputs": [
    {
     "name": "stdout",
     "output_type": "stream",
     "text": [
      "100\n",
      "<tr class=\"lst50\" data-song-no=\"34847378\" id=\"lst50\">\n",
      "<td><div class=\"wrap t_right\"><input class=\"input_check\" name=\"input_check\" title=\"LOVE DIVE 곡 선택\" type=\"checkbox\" value=\"34847378\"/></div></td>\n",
      "<td><div class=\"wrap t_center\"><span class=\"rank\">1</span><span class=\"none\">위</span></div></td>\n",
      "<!-- 차트순위 추가 -->\n",
      "<td><div class=\"wrap\">\n",
      "<span class=\"rank_wrap\" title=\"순위 동일\">\n",
      "<span class=\"bullet_icons rank_static\"><span class=\"none\">순위 동일</span></span>\n",
      "<span class=\"none\">0</span>\n",
      "</span>\n",
      "</div></td>\n",
      "<td><div class=\"wrap\">\n",
      "<a class=\"image_typeAll\" href=\"javascript:melon.link.goAlbumDetail('10909179');\" title=\"LOVE DIVE\">\n",
      "<img alt=\"LOVE DIVE - 페이지 이동\" height=\"60\" onerror=\"WEBPOCIMG.defaultAlbumImg(this);\" src=\"https://cdnimg.melon.co.kr/cm2/album/images/109/09/179/10909179_20220405103521_500.jpg/melon/resize/120/quality/80/optimize\" width=\"60\"/>\n",
      "<span class=\"bg_album_frame\"></span>\n",
      "</a>\n",
      "</div></td>\n",
      "<td><div class=\"wrap\">\n",
      "<a class=\"btn button_icons type03 song_info\" href=\"javascript:melon.link.goSongDetail('34847378');\" title=\"LOVE DIVE 곡정보\"><span class=\"none\">곡정보</span></a>\n",
      "</div></td>\n",
      "<td><div class=\"wrap\">\n",
      "<div class=\"wrap_song_info\">\n",
      "<div class=\"ellipsis rank01\"><span>\n",
      "<a href=\"javascript:melon.play.playSong('1000002721',34847378);\" title=\"LOVE DIVE 재생\">LOVE DIVE</a>\n",
      "</span></div><br/>\n",
      "<div class=\"ellipsis rank02\">\n",
      "<a href=\"javascript:melon.link.goArtistDetail('3055146');\" title=\"IVE (아이브) - 페이지 이동\">IVE (아이브)</a><span class=\"checkEllipsis\" style=\"display: none;\"><a href=\"javascript:melon.link.goArtistDetail('3055146');\" title=\"IVE (아이브) - 페이지 이동\">IVE (아이브)</a></span>\n",
      "</div>\n",
      "</div>\n",
      "</div></td>\n",
      "<td><div class=\"wrap\">\n",
      "<div class=\"wrap_song_info\">\n",
      "<div class=\"ellipsis rank03\">\n",
      "<a href=\"javascript:melon.link.goAlbumDetail('10909179');\" title=\"LOVE DIVE - 페이지 이동\">LOVE DIVE</a>\n",
      "</div>\n",
      "</div>\n",
      "</div></td>\n",
      "<td><div class=\"wrap\">\n",
      "<button class=\"button_etc like\" data-song-menuid=\"1000002721\" data-song-no=\"34847378\" title=\"LOVE DIVE 좋아요\" type=\"button\"><span class=\"odd_span\">좋아요</span>\n",
      "<span class=\"cnt\">\n",
      "<span class=\"none\">총건수</span>\n",
      "152,754</span></button>\n",
      "</div></td>\n",
      "<td><div class=\"wrap t_center\">\n",
      "<button class=\"button_icons play\" onclick=\"melon.play.playSong('1000002721',34847378);\" title=\"듣기\" type=\"button\"><span class=\"none\">듣기</span></button>\n",
      "</div></td>\n",
      "<td><div class=\"wrap t_center\">\n",
      "<button class=\"button_icons scrap\" onclick=\"melon.play.addPlayList('34847378');\" title=\"담기\" type=\"button\"><span class=\"none\">담기</span></button>\n",
      "</div></td>\n",
      "<td><div class=\"wrap t_center\">\n",
      "<button class=\"button_icons download\" onclick=\"melon.buy.goBuyProduct('frm', '34847378', '3C0001', '','0', '1000002721');\" title=\"다운로드\" type=\"button\"><span class=\"none\">다운로드</span></button>\n",
      "</div></td>\n",
      "<td><div class=\"wrap t_center\">\n",
      "<button class=\"button_icons video\" onclick=\"melon.link.goMvDetail('1000002721', '34847378','song');\" title=\"뮤직비디오\" type=\"button\"><span class=\"none\">뮤직비디오</span></button>\n",
      "</div></td>\n",
      "</tr>\n"
     ]
    }
   ],
   "source": [
    "# 100개의 노래 태그 찾기\n",
    "\n",
    "songs = soup.select('table > tbody > tr')   # 함수 및 조건을 이용해, 곡 정보가 포함된 tr 태그를 모두 찾고\n",
    "print(len(songs))                           # 해당 변수의 원소가 몇 개인지 확인\n",
    "print(songs[0])                             # 그리고 인덱스 번호 0인 태그를 화면에 출력 "
   ]
  },
  {
   "cell_type": "code",
   "execution_count": 11,
   "id": "e4cc0c9b",
   "metadata": {},
   "outputs": [],
   "source": [
    "# 한 개의 곡 정보 지정하기\n",
    "\n",
    "song = songs[0]"
   ]
  },
  {
   "cell_type": "code",
   "execution_count": 13,
   "id": "e1fd3570",
   "metadata": {},
   "outputs": [
    {
     "data": {
      "text/plain": [
       "6"
      ]
     },
     "execution_count": 13,
     "metadata": {},
     "output_type": "execute_result"
    }
   ],
   "source": [
    "# 곡 제목 찾기 1\n",
    "\n",
    "title = song.select('a')\n",
    "len(title)"
   ]
  },
  {
   "cell_type": "markdown",
   "id": "206e5c61",
   "metadata": {},
   "source": [
    " ㄴ> 위의 조건을 만족하는 태그의 개수는 6개이다. 따라서 태그명 a 이외에 다른 검색 조건을 추가해서 다시 검색."
   ]
  },
  {
   "cell_type": "code",
   "execution_count": 14,
   "id": "e31acfc2",
   "metadata": {},
   "outputs": [
    {
     "data": {
      "text/plain": [
       "2"
      ]
     },
     "execution_count": 14,
     "metadata": {},
     "output_type": "execute_result"
    }
   ],
   "source": [
    "# 곡 제목 찾기 2\n",
    "\n",
    "title = song.select('span > a')\n",
    "len(title)"
   ]
  },
  {
   "cell_type": "code",
   "execution_count": 15,
   "id": "7a947442",
   "metadata": {},
   "outputs": [
    {
     "data": {
      "text/plain": [
       "'LOVE DIVE'"
      ]
     },
     "execution_count": 15,
     "metadata": {},
     "output_type": "execute_result"
    }
   ],
   "source": [
    "# 곡 제목 찾기 3\n",
    "\n",
    "title = song.select('div.ellipsis.rank01 > span > a')[0].text \n",
    "title\n",
    "\n",
    "# .text: 해당 태그의 텍스트 부분만 택할 수 있도록 도움"
   ]
  },
  {
   "cell_type": "code",
   "execution_count": 16,
   "id": "116aa80e",
   "metadata": {},
   "outputs": [
    {
     "data": {
      "text/plain": [
       "1"
      ]
     },
     "execution_count": 16,
     "metadata": {},
     "output_type": "execute_result"
    }
   ],
   "source": [
    "# 가수 찾기\n",
    "\n",
    "singer = song.select('div.ellipsis.rank02 > a')\n",
    "len(singer)"
   ]
  },
  {
   "cell_type": "code",
   "execution_count": 17,
   "id": "067a1626",
   "metadata": {},
   "outputs": [
    {
     "data": {
      "text/plain": [
       "'IVE (아이브)'"
      ]
     },
     "execution_count": 17,
     "metadata": {},
     "output_type": "execute_result"
    }
   ],
   "source": [
    "# 가수 정보 가져오기\n",
    "\n",
    "singer = song.select('div.ellipsis.rank02 > a')[0].text\n",
    "singer"
   ]
  },
  {
   "cell_type": "code",
   "execution_count": 19,
   "id": "44c5e124",
   "metadata": {},
   "outputs": [
    {
     "name": "stdout",
     "output_type": "stream",
     "text": [
      "LOVE DIVE | IVE (아이브)\n",
      "That That (prod. & feat. SUGA of BTS) | 싸이 (PSY)\n",
      "TOMBOY | (여자)아이들\n",
      "사랑인가 봐 | 멜로망스\n",
      "정이라고 하자 (Feat. 10CM) | BIG Naughty (서동현)\n",
      "나의 X에게 | 경서\n",
      "우리들의 블루스 | 임영웅\n",
      "사랑은 늘 도망가 | 임영웅\n",
      "Yet To Come | 방탄소년단\n",
      "봄여름가을겨울 (Still Life) | BIGBANG (빅뱅)\n",
      "LOVE me | BE'O (비오)\n",
      "FEARLESS | LE SSERAFIM (르세라핌)\n",
      "다시 만날 수 있을까 | 임영웅\n",
      "취중고백 | 김민석 (멜로망스)\n",
      "Feel My Rhythm | Red Velvet (레드벨벳)\n",
      "POP! | 나연 (TWICE)\n",
      "Left and Right (Feat. Jung Kook of BTS) | Charlie Puth\n",
      "Dynamite | 방탄소년단\n",
      "신호등 | 이무진\n",
      "ELEVEN | IVE (아이브)\n",
      "내가 아니라도 | 주호\n",
      "무지개 | 임영웅\n",
      "이제 나만 믿어요 | 임영웅\n",
      "Butter | 방탄소년단\n",
      "GANADARA (Feat. 아이유) | 박재범\n",
      "다정히 내 이름을 부르면 | 경서예지\n",
      "아버지 | 임영웅\n",
      "Permission to Dance | 방탄소년단\n",
      "없었던 일로 | 헤이즈 (Heize)\n",
      "아무래도 난 | 주시크 (Joosiq)\n",
      "MY BAG | (여자)아이들\n",
      "INVU | 태연 (TAEYEON)\n",
      "STAY | The Kid LAROI\n",
      "손이 참 곱던 그대 | 임영웅\n",
      "A bientot | 임영웅\n",
      "That's Hilarious | Charlie Puth\n",
      "사랑해 진짜 | 임영웅\n",
      "듣고 싶을까 | MSG워너비(M.O.M)\n",
      "늦은 밤 헤어지긴 너무 아쉬워 | 케이시 (Kassy)\n",
      "인생찬가 | 임영웅\n",
      "Weekend | 태연 (TAEYEON)\n",
      "연애편지 | 임영웅\n",
      "Next Level | aespa\n",
      "봄날 | 방탄소년단\n",
      "ZOOM | 제시 (Jessi)\n",
      "사랑역 | 임영웅\n",
      "고백하는 취한밤에 (Prod. 2soo) | 임재현\n",
      "너의 모든 순간 | 성시경\n",
      "SMILEY (Feat. BIBI) | YENA (최예나)\n",
      "보금자리 | 임영웅\n",
      "사랑해요 그대를 | 임영웅\n",
      "너를 생각해 | 주시크 (Joosiq)\n",
      "My Universe | Coldplay\n",
      "팡파레 | 다비치\n",
      "회전목마 (Feat. Zion.T, 원슈타인) (Prod. Slom) | sokodomo\n",
      "HOT | 세븐틴\n",
      "With you | 지민\n",
      "드라마 | 아이유\n",
      "Born Singer | 방탄소년단\n",
      "내 손을 잡아 | 아이유\n",
      "언제나 사랑해 | 케이시 (Kassy)\n",
      "낭만교향곡 (Feat. CHANGMO, 박재범) | BIG Naughty (서동현)\n",
      "리무진 (Feat. MINO) (Prod. GRAY) | BE'O (비오)\n",
      "strawberry moon | 아이유\n",
      "작은 것들을 위한 시 (Boy With Luv) (Feat. Halsey) | 방탄소년단\n",
      "바라만 본다 | MSG워너비(M.O.M)\n",
      "OHAYO MY NIGHT | 디핵 (D-Hack)\n",
      "모든 날, 모든 순간 (Every day, Every Moment) | 폴킴\n",
      "라일락 | 아이유\n",
      "Off My Face | Justin Bieber\n",
      "롤린 (Rollin') | 브레이브걸스\n",
      "달려라 방탄 | 방탄소년단\n",
      "Celebrity | 아이유\n",
      "눈이 오잖아(Feat.헤이즈) | 이무진\n",
      "밤하늘의 별을(2020) | 경서\n",
      "스물다섯, 스물하나 | 자우림\n",
      "MORE | j-hope\n",
      "RUN2U | STAYC(스테이씨)\n",
      "Savage | aespa\n",
      "Blueming | 아이유\n",
      "Love story | 볼빨간사춘기\n",
      "Dun Dun Dance | 오마이걸 (OH MY GIRL)\n",
      "For Youth | 방탄소년단\n",
      "사이렌 Remix (Feat. UNEDUCATED KID, Paul Blanco) | 호미들\n",
      "Bad Habits | Ed Sheeran\n",
      "고백 | 멜로망스\n",
      "어떻게 이별까지 사랑하겠어, 널 사랑하는 거지 | AKMU (악뮤)\n",
      "호랑수월가 | 탑현\n",
      "헤픈 우연 | 헤이즈 (Heize)\n",
      "문득 | BE'O (비오)\n",
      "Counting Stars (Feat. Beenzino) | BE'O (비오)\n",
      "찰나가 영원이 될 때 (The Eternal Moment) | 마크툽 (MAKTUB)\n",
      "그 하루(feat.반하나) | 주호\n",
      "해요 (2022) | #안녕\n",
      "미친 것처럼 | V.O.S\n",
      "Darl+ing | 세븐틴\n",
      "Seoul | 볼빨간사춘기\n",
      "Beatbox | NCT DREAM\n",
      "Step Back | GOT the beat\n",
      "Life′s Too Short (English Ver.) | aespa\n"
     ]
    }
   ],
   "source": [
    "# 이번에는 100곡의 노래에서 노래 제목과 가수 정보를 추출해보기\n",
    "\n",
    "for song in songs:\n",
    "    title = song.select('div.ellipsis.rank01 > span > a')[0].text\n",
    "    singer = song. select('div.ellipsis.rank02 > a')[0].text\n",
    "    print(title, singer, sep = ' | ')"
   ]
  }
 ],
 "metadata": {
  "kernelspec": {
   "display_name": "data_analysis",
   "language": "python",
   "name": "da37"
  },
  "language_info": {
   "codemirror_mode": {
    "name": "ipython",
    "version": 3
   },
   "file_extension": ".py",
   "mimetype": "text/x-python",
   "name": "python",
   "nbconvert_exporter": "python",
   "pygments_lexer": "ipython3",
   "version": "3.7.13"
  }
 },
 "nbformat": 4,
 "nbformat_minor": 5
}
