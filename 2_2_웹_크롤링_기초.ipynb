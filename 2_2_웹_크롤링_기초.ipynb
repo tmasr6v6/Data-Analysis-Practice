{
  "nbformat": 4,
  "nbformat_minor": 0,
  "metadata": {
    "colab": {
      "name": "2.2 웹 크롤링 기초.ipynb",
      "provenance": [],
      "collapsed_sections": [],
      "mount_file_id": "13NaTt8vT6zuE2PNc92vacHkPjnmArYIJ",
      "authorship_tag": "ABX9TyMxEQOtgiocZh4i575EiLHd",
      "include_colab_link": true
    },
    "kernelspec": {
      "name": "python3",
      "display_name": "Python 3"
    },
    "language_info": {
      "name": "python"
    }
  },
  "cells": [
    {
      "cell_type": "markdown",
      "metadata": {
        "id": "view-in-github",
        "colab_type": "text"
      },
      "source": [
        "<a href=\"https://colab.research.google.com/github/tmasr6v6/Data-Analysis-Practice/blob/main/2_2_%EC%9B%B9_%ED%81%AC%EB%A1%A4%EB%A7%81_%EA%B8%B0%EC%B4%88.ipynb\" target=\"_parent\"><img src=\"https://colab.research.google.com/assets/colab-badge.svg\" alt=\"Open In Colab\"/></a>"
      ]
    },
    {
      "cell_type": "markdown",
      "source": [
        "# 2. 데이터 분석 기초"
      ],
      "metadata": {
        "id": "79x5fn55OwFg"
      }
    },
    {
      "cell_type": "markdown",
      "source": [
        "## 2.2 웹 크롤링 기초"
      ],
      "metadata": {
        "id": "mTrXeVG6O1RI"
      }
    },
    {
      "cell_type": "markdown",
      "source": [
        "### selenium과 크롬드라이버 설치"
      ],
      "metadata": {
        "id": "0S28mzE7O5DF"
      }
    },
    {
      "cell_type": "code",
      "source": [
        "!pip install selenium\n",
        "!apt-get update\n",
        "!apt install chromium-chromedriver\n",
        "!cp /usr/lib/chromium-browser/chromedriver /usr/bin"
      ],
      "metadata": {
        "colab": {
          "base_uri": "https://localhost:8080/"
        },
        "id": "0xt8JNZYPPbR",
        "outputId": "a97f864d-9df0-4a57-8867-0789ec5225b9"
      },
      "execution_count": 1,
      "outputs": [
        {
          "output_type": "stream",
          "name": "stdout",
          "text": [
            "Looking in indexes: https://pypi.org/simple, https://us-python.pkg.dev/colab-wheels/public/simple/\n",
            "Collecting selenium\n",
            "  Downloading selenium-4.3.0-py3-none-any.whl (981 kB)\n",
            "\u001b[K     |████████████████████████████████| 981 kB 6.9 MB/s \n",
            "\u001b[?25hCollecting urllib3[secure,socks]~=1.26\n",
            "  Downloading urllib3-1.26.9-py2.py3-none-any.whl (138 kB)\n",
            "\u001b[K     |████████████████████████████████| 138 kB 60.7 MB/s \n",
            "\u001b[?25hCollecting trio~=0.17\n",
            "  Downloading trio-0.21.0-py3-none-any.whl (358 kB)\n",
            "\u001b[K     |████████████████████████████████| 358 kB 56.5 MB/s \n",
            "\u001b[?25hCollecting trio-websocket~=0.9\n",
            "  Downloading trio_websocket-0.9.2-py3-none-any.whl (16 kB)\n",
            "Collecting outcome\n",
            "  Downloading outcome-1.2.0-py2.py3-none-any.whl (9.7 kB)\n",
            "Requirement already satisfied: attrs>=19.2.0 in /usr/local/lib/python3.7/dist-packages (from trio~=0.17->selenium) (21.4.0)\n",
            "Collecting sniffio\n",
            "  Downloading sniffio-1.2.0-py3-none-any.whl (10 kB)\n",
            "Requirement already satisfied: sortedcontainers in /usr/local/lib/python3.7/dist-packages (from trio~=0.17->selenium) (2.4.0)\n",
            "Collecting async-generator>=1.9\n",
            "  Downloading async_generator-1.10-py3-none-any.whl (18 kB)\n",
            "Requirement already satisfied: idna in /usr/local/lib/python3.7/dist-packages (from trio~=0.17->selenium) (2.10)\n",
            "Collecting wsproto>=0.14\n",
            "  Downloading wsproto-1.1.0-py3-none-any.whl (24 kB)\n",
            "Collecting cryptography>=1.3.4\n",
            "  Downloading cryptography-37.0.2-cp36-abi3-manylinux_2_24_x86_64.whl (4.0 MB)\n",
            "\u001b[K     |████████████████████████████████| 4.0 MB 37.0 MB/s \n",
            "\u001b[?25hCollecting pyOpenSSL>=0.14\n",
            "  Downloading pyOpenSSL-22.0.0-py2.py3-none-any.whl (55 kB)\n",
            "\u001b[K     |████████████████████████████████| 55 kB 5.4 MB/s \n",
            "\u001b[?25hRequirement already satisfied: certifi in /usr/local/lib/python3.7/dist-packages (from urllib3[secure,socks]~=1.26->selenium) (2022.6.15)\n",
            "Requirement already satisfied: PySocks!=1.5.7,<2.0,>=1.5.6 in /usr/local/lib/python3.7/dist-packages (from urllib3[secure,socks]~=1.26->selenium) (1.7.1)\n",
            "Requirement already satisfied: cffi>=1.12 in /usr/local/lib/python3.7/dist-packages (from cryptography>=1.3.4->urllib3[secure,socks]~=1.26->selenium) (1.15.0)\n",
            "Requirement already satisfied: pycparser in /usr/local/lib/python3.7/dist-packages (from cffi>=1.12->cryptography>=1.3.4->urllib3[secure,socks]~=1.26->selenium) (2.21)\n",
            "Collecting h11<1,>=0.9.0\n",
            "  Downloading h11-0.13.0-py3-none-any.whl (58 kB)\n",
            "\u001b[K     |████████████████████████████████| 58 kB 6.8 MB/s \n",
            "\u001b[?25hRequirement already satisfied: typing-extensions in /usr/local/lib/python3.7/dist-packages (from h11<1,>=0.9.0->wsproto>=0.14->trio-websocket~=0.9->selenium) (4.1.1)\n",
            "Installing collected packages: sniffio, outcome, h11, cryptography, async-generator, wsproto, urllib3, trio, pyOpenSSL, trio-websocket, selenium\n",
            "  Attempting uninstall: urllib3\n",
            "    Found existing installation: urllib3 1.24.3\n",
            "    Uninstalling urllib3-1.24.3:\n",
            "      Successfully uninstalled urllib3-1.24.3\n",
            "\u001b[31mERROR: pip's dependency resolver does not currently take into account all the packages that are installed. This behaviour is the source of the following dependency conflicts.\n",
            "requests 2.23.0 requires urllib3!=1.25.0,!=1.25.1,<1.26,>=1.21.1, but you have urllib3 1.26.9 which is incompatible.\n",
            "datascience 0.10.6 requires folium==0.2.1, but you have folium 0.8.3 which is incompatible.\u001b[0m\n",
            "Successfully installed async-generator-1.10 cryptography-37.0.2 h11-0.13.0 outcome-1.2.0 pyOpenSSL-22.0.0 selenium-4.3.0 sniffio-1.2.0 trio-0.21.0 trio-websocket-0.9.2 urllib3-1.26.9 wsproto-1.1.0\n",
            "Hit:1 https://developer.download.nvidia.com/compute/cuda/repos/ubuntu1804/x86_64  InRelease\n",
            "Ign:2 https://developer.download.nvidia.com/compute/machine-learning/repos/ubuntu1804/x86_64  InRelease\n",
            "Hit:3 https://developer.download.nvidia.com/compute/machine-learning/repos/ubuntu1804/x86_64  Release\n",
            "Get:4 https://cloud.r-project.org/bin/linux/ubuntu bionic-cran40/ InRelease [3,626 B]\n",
            "Hit:5 http://archive.ubuntu.com/ubuntu bionic InRelease\n",
            "Get:6 http://security.ubuntu.com/ubuntu bionic-security InRelease [88.7 kB]\n",
            "Get:8 http://ppa.launchpad.net/c2d4u.team/c2d4u4.0+/ubuntu bionic InRelease [15.9 kB]\n",
            "Get:9 http://archive.ubuntu.com/ubuntu bionic-updates InRelease [88.7 kB]\n",
            "Hit:10 http://ppa.launchpad.net/cran/libgit2/ubuntu bionic InRelease\n",
            "Get:11 http://archive.ubuntu.com/ubuntu bionic-backports InRelease [74.6 kB]\n",
            "Hit:12 http://ppa.launchpad.net/deadsnakes/ppa/ubuntu bionic InRelease\n",
            "Get:13 http://security.ubuntu.com/ubuntu bionic-security/universe amd64 Packages [1,521 kB]\n",
            "Get:14 http://ppa.launchpad.net/graphics-drivers/ppa/ubuntu bionic InRelease [21.3 kB]\n",
            "Get:15 http://archive.ubuntu.com/ubuntu bionic-updates/main amd64 Packages [3,298 kB]\n",
            "Get:16 http://ppa.launchpad.net/c2d4u.team/c2d4u4.0+/ubuntu bionic/main Sources [2,073 kB]\n",
            "Get:17 http://security.ubuntu.com/ubuntu bionic-security/multiverse amd64 Packages [22.8 kB]\n",
            "Get:18 http://security.ubuntu.com/ubuntu bionic-security/restricted amd64 Packages [1,021 kB]\n",
            "Get:19 http://security.ubuntu.com/ubuntu bionic-security/main amd64 Packages [2,867 kB]\n",
            "Get:20 http://archive.ubuntu.com/ubuntu bionic-updates/universe amd64 Packages [2,298 kB]\n",
            "Get:21 http://archive.ubuntu.com/ubuntu bionic-updates/restricted amd64 Packages [1,065 kB]\n",
            "Get:22 http://archive.ubuntu.com/ubuntu bionic-updates/multiverse amd64 Packages [29.8 kB]\n",
            "Get:23 http://archive.ubuntu.com/ubuntu bionic-backports/main amd64 Packages [12.2 kB]\n",
            "Get:24 http://ppa.launchpad.net/c2d4u.team/c2d4u4.0+/ubuntu bionic/main amd64 Packages [1,062 kB]\n",
            "Get:25 http://ppa.launchpad.net/graphics-drivers/ppa/ubuntu bionic/main amd64 Packages [47.8 kB]\n",
            "Fetched 15.6 MB in 4s (3,567 kB/s)\n",
            "Reading package lists... Done\n",
            "Reading package lists... Done\n",
            "Building dependency tree       \n",
            "Reading state information... Done\n",
            "The following package was automatically installed and is no longer required:\n",
            "  libnvidia-common-460\n",
            "Use 'apt autoremove' to remove it.\n",
            "The following additional packages will be installed:\n",
            "  chromium-browser chromium-browser-l10n chromium-codecs-ffmpeg-extra\n",
            "Suggested packages:\n",
            "  webaccounts-chromium-extension unity-chromium-extension\n",
            "The following NEW packages will be installed:\n",
            "  chromium-browser chromium-browser-l10n chromium-chromedriver\n",
            "  chromium-codecs-ffmpeg-extra\n",
            "0 upgraded, 4 newly installed, 0 to remove and 61 not upgraded.\n",
            "Need to get 89.8 MB of archives.\n",
            "After this operation, 302 MB of additional disk space will be used.\n",
            "Get:1 http://archive.ubuntu.com/ubuntu bionic-updates/universe amd64 chromium-codecs-ffmpeg-extra amd64 101.0.4951.64-0ubuntu0.18.04.1 [1,142 kB]\n",
            "Get:2 http://archive.ubuntu.com/ubuntu bionic-updates/universe amd64 chromium-browser amd64 101.0.4951.64-0ubuntu0.18.04.1 [78.5 MB]\n",
            "Get:3 http://archive.ubuntu.com/ubuntu bionic-updates/universe amd64 chromium-browser-l10n all 101.0.4951.64-0ubuntu0.18.04.1 [4,980 kB]\n",
            "Get:4 http://archive.ubuntu.com/ubuntu bionic-updates/universe amd64 chromium-chromedriver amd64 101.0.4951.64-0ubuntu0.18.04.1 [5,153 kB]\n",
            "Fetched 89.8 MB in 3s (26.1 MB/s)\n",
            "Selecting previously unselected package chromium-codecs-ffmpeg-extra.\n",
            "(Reading database ... 155639 files and directories currently installed.)\n",
            "Preparing to unpack .../chromium-codecs-ffmpeg-extra_101.0.4951.64-0ubuntu0.18.04.1_amd64.deb ...\n",
            "Unpacking chromium-codecs-ffmpeg-extra (101.0.4951.64-0ubuntu0.18.04.1) ...\n",
            "Selecting previously unselected package chromium-browser.\n",
            "Preparing to unpack .../chromium-browser_101.0.4951.64-0ubuntu0.18.04.1_amd64.deb ...\n",
            "Unpacking chromium-browser (101.0.4951.64-0ubuntu0.18.04.1) ...\n",
            "Selecting previously unselected package chromium-browser-l10n.\n",
            "Preparing to unpack .../chromium-browser-l10n_101.0.4951.64-0ubuntu0.18.04.1_all.deb ...\n",
            "Unpacking chromium-browser-l10n (101.0.4951.64-0ubuntu0.18.04.1) ...\n",
            "Selecting previously unselected package chromium-chromedriver.\n",
            "Preparing to unpack .../chromium-chromedriver_101.0.4951.64-0ubuntu0.18.04.1_amd64.deb ...\n",
            "Unpacking chromium-chromedriver (101.0.4951.64-0ubuntu0.18.04.1) ...\n",
            "Setting up chromium-codecs-ffmpeg-extra (101.0.4951.64-0ubuntu0.18.04.1) ...\n",
            "Setting up chromium-browser (101.0.4951.64-0ubuntu0.18.04.1) ...\n",
            "update-alternatives: using /usr/bin/chromium-browser to provide /usr/bin/x-www-browser (x-www-browser) in auto mode\n",
            "update-alternatives: using /usr/bin/chromium-browser to provide /usr/bin/gnome-www-browser (gnome-www-browser) in auto mode\n",
            "Setting up chromium-chromedriver (101.0.4951.64-0ubuntu0.18.04.1) ...\n",
            "Setting up chromium-browser-l10n (101.0.4951.64-0ubuntu0.18.04.1) ...\n",
            "Processing triggers for man-db (2.8.3-2ubuntu0.1) ...\n",
            "Processing triggers for hicolor-icon-theme (0.17-2) ...\n",
            "Processing triggers for mime-support (3.60ubuntu1) ...\n",
            "Processing triggers for libc-bin (2.27-3ubuntu1.3) ...\n",
            "/sbin/ldconfig.real: /usr/local/lib/python3.7/dist-packages/ideep4py/lib/libmkldnn.so.0 is not a symbolic link\n",
            "\n",
            "cp: '/usr/lib/chromium-browser/chromedriver' and '/usr/bin/chromedriver' are the same file\n"
          ]
        }
      ]
    },
    {
      "cell_type": "markdown",
      "source": [
        "### 크롬드라이버 활용하기"
      ],
      "metadata": {
        "id": "Aw2Z--_6Mi5v"
      }
    },
    {
      "cell_type": "code",
      "source": [
        "import time\n",
        "from selenium import webdriver"
      ],
      "metadata": {
        "id": "pnXGfnJQLno6"
      },
      "execution_count": 2,
      "outputs": []
    },
    {
      "cell_type": "code",
      "source": [
        "options = webdriver.ChromeOptions()\n",
        "options.add_argument('--headless')        # Head-less 설정\n",
        "options.add_argument('--no-sandbox')\n",
        "options.add_argument('--disable-dev-shm-usage')\n",
        "driver = webdriver.Chrome('chromedriver', options=options)   # 크롬 브라우저를 driver라는 이름으로 저장"
      ],
      "metadata": {
        "id": "Wb0Cj_cILtIJ"
      },
      "execution_count": 3,
      "outputs": []
    },
    {
      "cell_type": "markdown",
      "source": [
        "### 웹 페이지 접속"
      ],
      "metadata": {
        "id": "wL48Dc5CMztP"
      }
    },
    {
      "cell_type": "code",
      "source": [
        "url = 'http://www.naver.com/'\n",
        "driver.get(url)"
      ],
      "metadata": {
        "id": "_9Xoti4APJl4"
      },
      "execution_count": 4,
      "outputs": []
    },
    {
      "cell_type": "markdown",
      "source": [
        "### 웹 페이지(HTML) 다운로드\n",
        "\n",
        "\n",
        "> driver.page_source를 이용해서 웹페이지의 HTML 정보를 가져올 수 있다.\n"
      ],
      "metadata": {
        "id": "E5c3pSnJNOsO"
      }
    },
    {
      "cell_type": "code",
      "source": [
        "html = driver.page_source"
      ],
      "metadata": {
        "id": "d51vlRAlNA4m"
      },
      "execution_count": 5,
      "outputs": []
    },
    {
      "cell_type": "markdown",
      "source": [
        "### HTML 구조 살펴보기\n",
        "\n",
        "\n",
        "1.   <태그>로 시작하고 </태그>로 끝난다.\n",
        "2.   태그는 다른 태그에 속할 수 있다.\n",
        "3.   태그의 시작과 끝 사이에는 화면에 표시되는 정보가 들어간다.\n",
        "4.   태그 기호 내에 속성을 가질 수 있다.\n",
        "\n"
      ],
      "metadata": {
        "id": "HGyRJr8SO-eh"
      }
    },
    {
      "cell_type": "code",
      "source": [
        "# <html>\n",
        "#   <head>\n",
        "#   </head>\n",
        "#   <body>\n",
        "#     <h1> 우리동네시장</h>\n",
        "#       <div class = 'sale'>\n",
        "#         <p id = 'fruit1' class = 'fruits'>\n",
        "#          <span class = 'name'> 바나나 </span>\n",
        "#          <span class = 'price'> 3000원 </span>\n",
        "#          <span class = 'inventory'> 500개 </span>\n",
        "#          <span class = 'store'> 가나다상회 </span>\n",
        "#          <a href = 'http://bit.ly/forPlaywithData' > 홈페이지 </a>\n",
        "#         </p>\n",
        "#       </div>\n",
        "#       <div class = 'prepare'>\n",
        "#         <p id = 'fruit2' class = 'fruits'>\n",
        "#           <span class = 'name'> 파인애플 </span>\n",
        "#         </p>\n",
        "#       </div>\n",
        "#   </body>\n",
        "# </html>"
      ],
      "metadata": {
        "id": "z8R9CMI-NrAv"
      },
      "execution_count": 6,
      "outputs": []
    },
    {
      "cell_type": "markdown",
      "source": [
        "### 크롬 브라우저에서 웹 페이지의 HTML 살펴보기"
      ],
      "metadata": {
        "id": "uhhhDAq7R86r"
      }
    },
    {
      "cell_type": "markdown",
      "source": [
        "*살펴봤음 ~*"
      ],
      "metadata": {
        "id": "IFnvWQdISuuZ"
      }
    },
    {
      "cell_type": "markdown",
      "source": [
        "### 예제로 BeautifulSoup을 이용한 정보 찾기\n",
        "\n",
        "\n",
        "\n",
        "> BeautifulSoup을 활용하여 HTML 문자열 해석\n",
        "\n",
        "\n",
        "> 아래의 코드 중,  시작과 끝부분에 사용된 '''은 파이썬에서 여러 줄에 걸쳐 문자열을 입력할때 사용하는 기호이다.\n",
        "\n"
      ],
      "metadata": {
        "id": "e3DbTYK7Sx5j"
      }
    },
    {
      "cell_type": "code",
      "source": [
        "html = '''\n",
        "<html>\n",
        "  <head>\n",
        "  </head>\n",
        "  <body>\n",
        "    <h1> 우리동네시장</h>\n",
        "      <div class = 'sale'>\n",
        "        <p id = 'fruits1' class = 'fruits'>\n",
        "         <span class = 'name'> 바나나 </span>\n",
        "         <span class = 'price'> 3000원 </span>\n",
        "         <span class = 'inventory'> 500개 </span>\n",
        "         <span class = 'store'> 가나다상회 </span>\n",
        "         <a href = 'http://bit.ly/forPlaywithData' > 홈페이지 </a>\n",
        "        </p>\n",
        "      </div>\n",
        "      <div class = 'prepare'>\n",
        "        <p id = 'fruits2' class = 'fruits'>\n",
        "          <span class = 'name'> 파인애플 </span>\n",
        "        </p>\n",
        "      </div>\n",
        "  </body>\n",
        "</html>\n",
        "'''"
      ],
      "metadata": {
        "id": "zgCrpy4eS79Z"
      },
      "execution_count": 7,
      "outputs": []
    },
    {
      "cell_type": "code",
      "source": [
        "from bs4 import BeautifulSoup  # bs4 패키지 내에서 BeautifulSoup 라이브러리 호출\n",
        "\n",
        "soup = BeautifulSoup(html, 'html.parser')  # html 변수에 들어있는 문자열 정보를 HTML형식에 맞게 해석"
      ],
      "metadata": {
        "id": "Bh21X6XaUOFr"
      },
      "execution_count": 8,
      "outputs": []
    },
    {
      "cell_type": "markdown",
      "source": [
        "### HTML 정보찾기: (1) 태그 속성 활용\n",
        "\n",
        "\n",
        "\n",
        "> class 속성을 글꼴, 배경색 등의 서식을 지정하기 위해 사용되고, HTML 내에서 동일한 class 명이 여러 번 사용될 수 있다.\n",
        "\n",
        "\n",
        "> 반면 id 값은 특정 대상을 지정하기 위해 사용되므로, HTML 내에서 한 번만 사용가능하다.\n",
        "\n",
        "\n",
        "> 따라서 id 값을 잘 활용한다면, 특정 태그를 손쉽게 찾을 수 있을 것이다.\n",
        "\n"
      ],
      "metadata": {
        "id": "UVdeq6AcVB7p"
      }
    },
    {
      "cell_type": "markdown",
      "source": [
        "1) 태그명으로 태그 찾기: BeautifulSoup 명령어인 select('조건')을 이용하면, HTML 내에서 입력한 조건을 만족하는 태그를 모두 선택할 수 있다."
      ],
      "metadata": {
        "id": "iUnVUaqZVVyO"
      }
    },
    {
      "cell_type": "code",
      "source": [
        "tags_span = soup.select('span')\n",
        "tags_p = soup.select('p')"
      ],
      "metadata": {
        "id": "Pez234P6U8eB"
      },
      "execution_count": 9,
      "outputs": []
    },
    {
      "cell_type": "markdown",
      "source": [
        "2) id 값으로 태그 찾기: select(' # *id값* ')"
      ],
      "metadata": {
        "id": "0ZreLM3-b691"
      }
    },
    {
      "cell_type": "code",
      "source": [
        "ids_fruits1 = soup.select('#fruits1')"
      ],
      "metadata": {
        "id": "acvgQgm9WJCY"
      },
      "execution_count": 10,
      "outputs": []
    },
    {
      "cell_type": "markdown",
      "source": [
        "3) class 명으로 태그 찾기: 점(.) 뒤에 class 명을 넣어서, 조건 지정"
      ],
      "metadata": {
        "id": "jFGsiO_Kb6hl"
      }
    },
    {
      "cell_type": "code",
      "source": [
        "class_price = soup.select('.price')"
      ],
      "metadata": {
        "id": "zK4pozl4cuTe"
      },
      "execution_count": 11,
      "outputs": []
    },
    {
      "cell_type": "markdown",
      "source": [
        "4) 응용: 태그명이 'span'이면서 class명이 'price'인 태그 찾기"
      ],
      "metadata": {
        "id": "nopcVI4ndD_b"
      }
    },
    {
      "cell_type": "code",
      "source": [
        "tags_span_class_price = soup.select('span.price')"
      ],
      "metadata": {
        "id": "T4kco10xc3OG"
      },
      "execution_count": 12,
      "outputs": []
    },
    {
      "cell_type": "markdown",
      "source": [
        "\n",
        "### HTML 정보찾기: (2) 상위 구조 활용\n",
        "\n",
        "\n",
        "> 정보가 담긴 태그의 속성만으로 찾기가 어려울 경우 어떠한 부모 태그 아래에 있는지 등의 정보를 추가해서 찾을 수 있습니다.\n",
        "\n",
        "\n",
        "\n",
        "> 한 단계 아래를 의미할 때는 ' > ' 기호를 사용\n",
        "\n",
        "\n",
        "\n",
        "\n",
        "\n"
      ],
      "metadata": {
        "id": "l3Mr0_Ggdn1p"
      }
    },
    {
      "cell_type": "code",
      "source": [
        "# 태그명이 'span'이면서 class명이 'name'인 태그를 찾아, 변수에 저장\n",
        "tags_name = soup.select('span.name')\n",
        "print(tags_name)"
      ],
      "metadata": {
        "colab": {
          "base_uri": "https://localhost:8080/"
        },
        "id": "H4OylihQdR8A",
        "outputId": "7079c1a3-0996-43c8-e196-d287e9c16030"
      },
      "execution_count": 13,
      "outputs": [
        {
          "output_type": "stream",
          "name": "stdout",
          "text": [
            "[<span class=\"name\"> 바나나 </span>, <span class=\"name\"> 파인애플 </span>]\n"
          ]
        }
      ]
    },
    {
      "cell_type": "code",
      "source": [
        "tags_banana1 = soup.select('#fruits1 > span.name')\n",
        "print(tags_banana1)"
      ],
      "metadata": {
        "colab": {
          "base_uri": "https://localhost:8080/"
        },
        "id": "m82_L15mf6BB",
        "outputId": "351489cd-03c4-48c4-b5c2-1d3a349131a1"
      },
      "execution_count": 14,
      "outputs": [
        {
          "output_type": "stream",
          "name": "stdout",
          "text": [
            "[<span class=\"name\"> 바나나 </span>]\n"
          ]
        }
      ]
    },
    {
      "cell_type": "code",
      "source": [
        "tags_banana2 = soup.select('div.sale > #fruits1 > span.name')\n",
        "tags_banana3 = soup.select('div.sale span.name')\n",
        "print(tags_banana2)\n",
        "print(tags_banana3)"
      ],
      "metadata": {
        "colab": {
          "base_uri": "https://localhost:8080/"
        },
        "id": "NtDnLVaufn53",
        "outputId": "ee1c5a3e-1b9b-41df-d154-3e44bfd0a48a"
      },
      "execution_count": 15,
      "outputs": [
        {
          "output_type": "stream",
          "name": "stdout",
          "text": [
            "[<span class=\"name\"> 바나나 </span>]\n",
            "[<span class=\"name\"> 바나나 </span>]\n"
          ]
        }
      ]
    },
    {
      "cell_type": "markdown",
      "source": [
        "### 정보가져오기:\n",
        "1. 태그 그룹에서 하나의 태그 선택하기\n",
        "2. 선택한 태그에서 정보 가져오기"
      ],
      "metadata": {
        "id": "Cu_2bcefiBuj"
      }
    },
    {
      "cell_type": "code",
      "source": [
        "# 태그 그룹에서 하나의 태그만 선택\n",
        "\n",
        "tags = soup.select('span.name')\n",
        "tag_1 = tags[0]   # 인덱스 번호로 하나의 태그 지정\n",
        "print(tag_1)"
      ],
      "metadata": {
        "id": "H-b-6ukmhctA",
        "colab": {
          "base_uri": "https://localhost:8080/"
        },
        "outputId": "3dc5ef61-7e0a-45b1-df29-1b79168ecd91"
      },
      "execution_count": 16,
      "outputs": [
        {
          "output_type": "stream",
          "name": "stdout",
          "text": [
            "<span class=\"name\"> 바나나 </span>\n"
          ]
        }
      ]
    },
    {
      "cell_type": "code",
      "source": [
        "# 태그 그룹에서 반복문으로 태그 하나씩 선택하기\n",
        "\n",
        "tags = soup.select('span.name')\n",
        "for tag in tags:       # 반복문으로 태그 그룹에서 각 태그를 선택해 활용\n",
        "    print(tag)"
      ],
      "metadata": {
        "colab": {
          "base_uri": "https://localhost:8080/"
        },
        "id": "0sYLy_RNzWEz",
        "outputId": "a8efc296-c834-4c3a-b2d3-38b7da6de6d9"
      },
      "execution_count": 17,
      "outputs": [
        {
          "output_type": "stream",
          "name": "stdout",
          "text": [
            "<span class=\"name\"> 바나나 </span>\n",
            "<span class=\"name\"> 파인애플 </span>\n"
          ]
        }
      ]
    },
    {
      "cell_type": "markdown",
      "source": [
        "\n",
        "> 인덱스 번호나 반복문을 활용해 원하는 태그를 선택한 다음에는, \n",
        ">  화면에 보이는 글 부분을 가져오거나(.text),  태그 내 속성의 값을 가져올 수 있습니다(['속성명']).\n",
        "\n",
        "\n",
        "> 일반적으로 브라우저에 표시되는 정보를 수집하는 일이 많기에 .text 명령을 자주 활용하지만, 화면에 보이지 않는 URL 주소를 수집하기 위해서는 ['href'] 명령도 필요합니다.\n",
        "\n",
        "\n",
        "\n",
        "> 하이퍼링크는 모두 \\<a href = 'URL주소'> 형식으로 작성되어 있습니다.\n",
        "\n",
        "\n",
        "\n",
        "\n",
        "\n",
        "\n",
        "\n",
        "\n"
      ],
      "metadata": {
        "id": "Rxf4eN_t0Fp3"
      }
    },
    {
      "cell_type": "code",
      "source": [
        "# 태그에서 정보 가져오기\n",
        "\n",
        "# content = TAG.text                         # 태그에서 화면에 보이는 텍스트 부분만 가져오기\n",
        "# attribute = TAG['속성명']                  # 태그 내 속성값 가져오기"
      ],
      "metadata": {
        "id": "pYs1xt76zxos"
      },
      "execution_count": null,
      "outputs": []
    },
    {
      "cell_type": "markdown",
      "source": [
        "\n",
        "> 첫 번째 줄에서는 선택한 태그의 화면에 보이는 텍스트 부분을,\n",
        "\n",
        "\n",
        "> 두 번째 줄에서는 선택한 태그 내의 특정 속성의 값을 가져옵니다.\n"
      ],
      "metadata": {
        "id": "aiv_YlD32cP5"
      }
    },
    {
      "cell_type": "code",
      "source": [
        "# 선택한 태그에서 텍스트, 속성 값 가져오기\n",
        "\n",
        "tags = soup.select('a')   # soup에서 태그명이 a인 태그를 모두 선택\n",
        "tag = tags[0]    # 그 중 인덱스 번호 0번 원소를 선택하여, tag 변수에 저장 \n",
        "\n",
        "content = tag.text   # tag에 저장된 태그의 화면에 보이는 부분을 선택하기 위해 .text 명령어를 활용\n",
        "print(content)       # 이를 출력 \n",
        "\n",
        "link = tag['href']   # 태그에서 href 속성에 저장된 값을 link 변수에 저장하고\n",
        "print(link)          # 위 내용을 출력"
      ],
      "metadata": {
        "colab": {
          "base_uri": "https://localhost:8080/"
        },
        "id": "DFPkm1tj2-M1",
        "outputId": "ba4141a8-4bfd-4b34-dc6b-651cd23d9065"
      },
      "execution_count": 19,
      "outputs": [
        {
          "output_type": "stream",
          "name": "stdout",
          "text": [
            " 홈페이지 \n",
            "http://bit.ly/forPlaywithData\n"
          ]
        }
      ]
    }
  ]
}